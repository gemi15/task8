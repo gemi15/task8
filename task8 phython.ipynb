{
 "cells": [
  {
   "cell_type": "code",
   "execution_count": 6,
   "id": "d47140f8",
   "metadata": {},
   "outputs": [],
   "source": [
    "import re \n",
    "form =\"\"\"mohamed gamal,01151834446 ,mohamedgamal0987@gmail.com,01124949038,Ibrahim osama,Ahmedosama@gmail.com,\n",
    "mohamedgamalhossam123@gmail.com,ahmed mohamed , 0111435267987\"\"\""
   ]
  },
  {
   "cell_type": "code",
   "execution_count": 7,
   "id": "53a8fce9",
   "metadata": {},
   "outputs": [
    {
     "name": "stdout",
     "output_type": "stream",
     "text": [
      "Names: []\n"
     ]
    }
   ],
   "source": [
    "find = re.compile(r\"([A-Za-z]+∖s[A-Za-z]+)\")\n",
    "name = find.finditer(form)\n",
    "result = []\n",
    "for i in name :\n",
    "    start=i.start()\n",
    "    end=i.end()\n",
    "    result.append(form[start:end])\n",
    "print(\"Names:\",result)"
   ]
  },
  {
   "cell_type": "code",
   "execution_count": 12,
   "id": "32ddb9e8",
   "metadata": {},
   "outputs": [
    {
     "name": "stdout",
     "output_type": "stream",
     "text": [
      "Emails []\n"
     ]
    }
   ],
   "source": [
    "find = re.compile (r\"[A-Za-z-9_$%*]+@[A-Za-z-9_$%*]+∖.(com∣gmail)\")\n",
    "email = find.finditer(form)\n",
    "result = []\n",
    "for i in email :\n",
    "    start=i.start()\n",
    "    end=i.end()\n",
    "    result.append(form[start:end])\n",
    "print(\"Emails\",result)"
   ]
  },
  {
   "cell_type": "code",
   "execution_count": 13,
   "id": "ed3f1deb",
   "metadata": {},
   "outputs": [
    {
     "name": "stdout",
     "output_type": "stream",
     "text": [
      "phones: []\n"
     ]
    }
   ],
   "source": [
    "find = re.compile (r\"(010∣012∣011)+∖d{8}\")\n",
    "phone = find.finditer(form)\n",
    "result = []\n",
    "for i in phone :\n",
    "    start=i.start()\n",
    "    end=i.end()\n",
    "    result.append(form[start:end])\n",
    "print(\"phones:\",result)"
   ]
  },
  {
   "cell_type": "code",
   "execution_count": null,
   "id": "02efab9f",
   "metadata": {},
   "outputs": [],
   "source": []
  }
 ],
 "metadata": {
  "kernelspec": {
   "display_name": "Python 3 (ipykernel)",
   "language": "python",
   "name": "python3"
  },
  "language_info": {
   "codemirror_mode": {
    "name": "ipython",
    "version": 3
   },
   "file_extension": ".py",
   "mimetype": "text/x-python",
   "name": "python",
   "nbconvert_exporter": "python",
   "pygments_lexer": "ipython3",
   "version": "3.11.3"
  }
 },
 "nbformat": 4,
 "nbformat_minor": 5
}
